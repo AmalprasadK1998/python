{
 "cells": [
  {
   "cell_type": "code",
   "execution_count": 410,
   "id": "a37cf430-d9b7-4f0e-bc64-6382bcc3764b",
   "metadata": {},
   "outputs": [],
   "source": [
    "import pandas as pd"
   ]
  },
  {
   "cell_type": "code",
   "execution_count": null,
   "id": "23954fc4-9913-4054-95ec-47a1a2bdaa21",
   "metadata": {},
   "outputs": [],
   "source": []
  },
  {
   "cell_type": "code",
   "execution_count": 411,
   "id": "5337a7c0-6fe5-49de-9095-c04bd9858946",
   "metadata": {},
   "outputs": [],
   "source": [
    "from selenium import webdriver"
   ]
  },
  {
   "cell_type": "code",
   "execution_count": 412,
   "id": "a3e948d4-1d90-43ee-a59a-063c631352db",
   "metadata": {},
   "outputs": [],
   "source": [
    "url = \"https://www.youtube.com/@GeeksforGeeksVideos/videos\""
   ]
  },
  {
   "cell_type": "code",
   "execution_count": 413,
   "id": "b1064a50-1f5d-44e3-872f-2b394099b6a2",
   "metadata": {},
   "outputs": [],
   "source": [
    "driver = webdriver.Chrome()"
   ]
  },
  {
   "cell_type": "code",
   "execution_count": 414,
   "id": "24db12e8-8bca-44d3-a9e8-778c74387819",
   "metadata": {},
   "outputs": [],
   "source": [
    "driver.get(url)"
   ]
  },
  {
   "cell_type": "code",
   "execution_count": 415,
   "id": "172e7cfd-d860-493a-8465-aa2c6dc36bfa",
   "metadata": {},
   "outputs": [],
   "source": [
    "# <span class=\"inline-metadata-item style-scope ytd-video-meta-block\">629 views</span>"
   ]
  },
  {
   "cell_type": "code",
   "execution_count": 416,
   "id": "dadd2200-c412-47d4-a9c9-d19cab809ef6",
   "metadata": {},
   "outputs": [],
   "source": [
    "# <span class=\"inline-metadata-item style-scope ytd-video-meta-block\">20 hours ago</span>"
   ]
  },
  {
   "cell_type": "code",
   "execution_count": 445,
   "id": "14dd24b2-3748-4ce1-bcab-b76470794f10",
   "metadata": {},
   "outputs": [
    {
     "data": {
      "text/plain": [
       "180"
      ]
     },
     "execution_count": 445,
     "metadata": {},
     "output_type": "execute_result"
    }
   ],
   "source": [
    "views_list = driver.find_elements(\"css selector\", \".inline-metadata-item.style-scope.ytd-video-meta-block\")\n",
    "\n",
    "type(views_list)\n",
    "len(views_list)\n"
   ]
  },
  {
   "cell_type": "code",
   "execution_count": 446,
   "id": "3bdb9208-5730-4d1c-b6d2-23109c73f9cf",
   "metadata": {},
   "outputs": [],
   "source": [
    "dynamic_info = []\n",
    "count = 0\n",
    "for views in views_list:\n",
    "    if views.text == '7 months ago':\n",
    "        break\n",
    "    if count % 2 == 0:\n",
    "        dynamic_info.append(views.text)\n",
    "    count += 1\n"
   ]
  },
  {
   "cell_type": "code",
   "execution_count": 447,
   "id": "ed6945c3-df7b-429c-ab70-b661b06fb08d",
   "metadata": {},
   "outputs": [
    {
     "name": "stdout",
     "output_type": "stream",
     "text": [
      "4.7K views\n"
     ]
    },
    {
     "data": {
      "text/plain": [
       "'4.7K views'"
      ]
     },
     "execution_count": 447,
     "metadata": {},
     "output_type": "execute_result"
    }
   ],
   "source": [
    "print(dynamic_info[-1])\n",
    "dynamic_info[-1]"
   ]
  },
  {
   "cell_type": "markdown",
   "id": "71762cf4-fc6c-45d6-bfc1-ffceb5a3f76f",
   "metadata": {},
   "source": [
    "# 1.Number of videos in the past 6 months , 8 Jan 2023 - 7 Aug 2023"
   ]
  },
  {
   "cell_type": "code",
   "execution_count": 448,
   "id": "b3e3c090-221c-47e3-8586-8319f388e6fb",
   "metadata": {},
   "outputs": [
    {
     "data": {
      "text/plain": [
       "71"
      ]
     },
     "execution_count": 448,
     "metadata": {},
     "output_type": "execute_result"
    }
   ],
   "source": [
    "len(dynamic_info)"
   ]
  },
  {
   "cell_type": "code",
   "execution_count": 449,
   "id": "8c585690-6df5-4f53-8dc5-aceb9cb0c686",
   "metadata": {},
   "outputs": [
    {
     "data": {
      "text/plain": [
       "'4.7K views'"
      ]
     },
     "execution_count": 449,
     "metadata": {},
     "output_type": "execute_result"
    }
   ],
   "source": [
    "dynamic_info[-1]"
   ]
  },
  {
   "cell_type": "markdown",
   "id": "4184df43-c257-4778-9c1f-33ef07decd68",
   "metadata": {},
   "source": [
    "# 2. Create a pandas data frame with columns name as videos title, views, Length of videos, and videos link"
   ]
  },
  {
   "cell_type": "code",
   "execution_count": null,
   "id": "471759c2-ed14-4cc6-89e5-7f1364b71fb3",
   "metadata": {},
   "outputs": [],
   "source": []
  },
  {
   "cell_type": "code",
   "execution_count": null,
   "id": "1a6cfddb-3d3d-4cb6-a714-a30d2ac2f8c4",
   "metadata": {},
   "outputs": [],
   "source": []
  },
  {
   "cell_type": "markdown",
   "id": "9d055055-d632-482b-b6ae-22058baead77",
   "metadata": {},
   "source": [
    "# length of videos"
   ]
  },
  {
   "cell_type": "code",
   "execution_count": 450,
   "id": "52042ef9-0464-4578-a336-b71a581cfedb",
   "metadata": {},
   "outputs": [],
   "source": [
    "# <span id=\"text\" class=\"style-scope ytd-thumbnail-overlay-time-status-renderer\" aria-label=\"3 minutes, 47 seconds\">3:47</span>\n",
    "  "
   ]
  },
  {
   "cell_type": "code",
   "execution_count": 451,
   "id": "a293fa06-c087-41d2-a7b4-ac46437e8f9b",
   "metadata": {},
   "outputs": [
    {
     "data": {
      "text/plain": [
       "180"
      ]
     },
     "execution_count": 451,
     "metadata": {},
     "output_type": "execute_result"
    }
   ],
   "source": [
    "video_length = driver.find_elements(\"css selector\",\".style-scope ytd-thumbnail-overlay-time-status-renderer\")\n",
    "len(video_length)"
   ]
  },
  {
   "cell_type": "code",
   "execution_count": 452,
   "id": "33e0bf5d-b519-4f8e-9369-3a52ce9796f1",
   "metadata": {},
   "outputs": [],
   "source": [
    "vl = []\n",
    "count = 0\n",
    "for length in video_length:\n",
    "    if count%2 == 0:\n",
    "        vl.append(length.text)\n",
    "    count += 1\n",
    "    if count == 142:\n",
    "        break"
   ]
  },
  {
   "cell_type": "code",
   "execution_count": 453,
   "id": "5280b8c7-0b8f-44e9-8d88-79ff6d321bea",
   "metadata": {},
   "outputs": [
    {
     "data": {
      "text/plain": [
       "['3:47',\n",
       " '9:53',\n",
       " '0:56',\n",
       " '0:46',\n",
       " '45:44',\n",
       " '1:29:21',\n",
       " '0:28',\n",
       " '0:30',\n",
       " '0:37',\n",
       " '0:36',\n",
       " '2:51',\n",
       " '0:46',\n",
       " '17:08',\n",
       " '0:10',\n",
       " '2:47',\n",
       " '0:56',\n",
       " '0:43',\n",
       " '8:50',\n",
       " '12:14',\n",
       " '0:37',\n",
       " '1:26',\n",
       " '5:40',\n",
       " '0:35',\n",
       " '0:37',\n",
       " '9:48',\n",
       " '10:48',\n",
       " '0:52',\n",
       " '1:39',\n",
       " '1:35',\n",
       " '0:38',\n",
       " '28:45',\n",
       " '3:17',\n",
       " '0:39',\n",
       " '8:44',\n",
       " '0:54',\n",
       " '2:03',\n",
       " '1:12',\n",
       " '0:56',\n",
       " '0:38',\n",
       " '5:38',\n",
       " '1:32',\n",
       " '0:42',\n",
       " '11:57',\n",
       " '1:35',\n",
       " '2:03',\n",
       " '16:45',\n",
       " '3:42',\n",
       " '0:25',\n",
       " '31:37',\n",
       " '19:28',\n",
       " '31:56',\n",
       " '11:55',\n",
       " '18:30',\n",
       " '1:05',\n",
       " '0:47',\n",
       " '0:31',\n",
       " '35:45',\n",
       " '15:30',\n",
       " '0:31',\n",
       " '37:22',\n",
       " '0:26',\n",
       " '3:30',\n",
       " '1:52',\n",
       " '6:55',\n",
       " '15:06',\n",
       " '2:41',\n",
       " '1:02',\n",
       " '3:58',\n",
       " '0:46',\n",
       " '7:19',\n",
       " '0:32']"
      ]
     },
     "execution_count": 453,
     "metadata": {},
     "output_type": "execute_result"
    }
   ],
   "source": [
    "vl"
   ]
  },
  {
   "cell_type": "markdown",
   "id": "eec61585-9d17-4238-8c56-81f43bf55dd5",
   "metadata": {},
   "source": [
    "# video titles and links!"
   ]
  },
  {
   "cell_type": "code",
   "execution_count": 454,
   "id": "79a71ba5-f501-4054-9494-92aacea57edb",
   "metadata": {},
   "outputs": [],
   "source": [
    "# <yt-formatted-string id=\"video-title\" class=\"style-scope ytd-rich-grid-media\" aria-label=\"All Your Queries Answered | DSA to Development Program | GeeksforGeeks by GeeksforGeeks 20 hours ago 3 minutes, 47 seconds 629 views\">All Your Queries Answered | DSA to Development Program | GeeksforGeeks</yt-formatted-string>\n",
    "\n"
   ]
  },
  {
   "cell_type": "code",
   "execution_count": null,
   "id": "21b5747a-7636-4ed8-bcf2-0eaedf74c47e",
   "metadata": {},
   "outputs": [],
   "source": []
  },
  {
   "cell_type": "code",
   "execution_count": 455,
   "id": "9cf6a109-5862-4758-83e0-01fcb49f2870",
   "metadata": {},
   "outputs": [],
   "source": [
    "# <a id=\"video-title-link\" class=\"yt-simple-endpoint focus-on-expand style-scope ytd-rich-grid-media\" aria-label=\"All Your Queries Answered | DSA to Development Program | GeeksforGeeks by GeeksforGeeks 20 hours ago 3 minutes, 47 seconds 629 views\" title=\"All Your Queries Answered | DSA to Development Program | GeeksforGeeks\" href=\"/watch?v=kHBzDvj3D2U\"><yt-formatted-string id=\"video-title\" class=\"style-scope ytd-rich-grid-media\" aria-label=\"All Your Queries Answered | DSA to Development Program | GeeksforGeeks by GeeksforGeeks 20 hours ago 3 minutes, 47 seconds 629 views\">All Your Queries Answered | DSA to Development Program | GeeksforGeeks</yt-formatted-string></a>\n",
    "\n"
   ]
  },
  {
   "cell_type": "code",
   "execution_count": 456,
   "id": "a925089a-1b7a-4a2f-81d6-dcefe7ec0a92",
   "metadata": {},
   "outputs": [],
   "source": [
    "elements = driver.find_elements(\"css selector\",\".yt-simple-endpoint\")"
   ]
  },
  {
   "cell_type": "code",
   "execution_count": 457,
   "id": "89395795-278d-48d0-af6b-21b0176893e0",
   "metadata": {},
   "outputs": [
    {
     "data": {
      "text/plain": [
       "403"
      ]
     },
     "execution_count": 457,
     "metadata": {},
     "output_type": "execute_result"
    }
   ],
   "source": [
    "len(elements)"
   ]
  },
  {
   "cell_type": "code",
   "execution_count": null,
   "id": "31812c2a-b3ed-44fc-88eb-1b3b1c821624",
   "metadata": {},
   "outputs": [],
   "source": []
  },
  {
   "cell_type": "code",
   "execution_count": null,
   "id": "9c6c7bf0-ac24-48d6-8370-79815d257dec",
   "metadata": {},
   "outputs": [],
   "source": []
  },
  {
   "cell_type": "code",
   "execution_count": null,
   "id": "1deb337f-9cf3-4b36-baa4-07a569764531",
   "metadata": {},
   "outputs": [],
   "source": []
  },
  {
   "cell_type": "markdown",
   "id": "64665667-0e70-4784-b50d-0cf6673968a4",
   "metadata": {},
   "source": [
    "# common pattern"
   ]
  },
  {
   "cell_type": "code",
   "execution_count": 461,
   "id": "51287346-41e0-4159-bb1d-0b8fd608210a",
   "metadata": {},
   "outputs": [
    {
     "name": "stdout",
     "output_type": "stream",
     "text": [
      "https://www.youtube.com/watch?v=kHBzDvj3D2U\n",
      "https://www.youtube.com/watch?v=kHBzDvj3D2U\n",
      "None\n",
      "https://www.youtube.com/watch?v=kHBzDvj3D2U\n",
      "https://www.youtube.com/watch?v=2QDMIZGeIC4\n",
      "https://www.youtube.com/watch?v=2QDMIZGeIC4\n",
      "None\n",
      "https://www.youtube.com/watch?v=2QDMIZGeIC4\n",
      "https://www.youtube.com/watch?v=1ECMlxC6jbs\n",
      "https://www.youtube.com/watch?v=1ECMlxC6jbs\n",
      "None\n",
      "https://www.youtube.com/watch?v=1ECMlxC6jbs\n",
      "https://www.youtube.com/watch?v=vjWLZYeqiN8\n",
      "https://www.youtube.com/watch?v=vjWLZYeqiN8\n",
      "None\n",
      "https://www.youtube.com/watch?v=vjWLZYeqiN8\n"
     ]
    }
   ],
   "source": [
    "print(elements[39].get_attribute(\"href\"))\n",
    "print(elements[40].get_attribute(\"href\"))\n",
    "print(elements[41].get_attribute(\"href\"))\n",
    "print(elements[42].get_attribute(\"href\"))\n",
    "\n",
    "print(elements[43].get_attribute(\"href\"))\n",
    "print(elements[44].get_attribute(\"href\"))\n",
    "print(elements[45].get_attribute(\"href\"))\n",
    "print(elements[46].get_attribute(\"href\"))\n",
    "\n",
    "print(elements[47].get_attribute(\"href\"))\n",
    "print(elements[48].get_attribute(\"href\"))\n",
    "print(elements[49].get_attribute(\"href\"))\n",
    "print(elements[50].get_attribute(\"href\"))\n",
    "\n",
    "print(elements[51].get_attribute(\"href\"))\n",
    "print(elements[52].get_attribute(\"href\"))\n",
    "print(elements[53].get_attribute(\"href\"))\n",
    "print(elements[54].get_attribute(\"href\"))"
   ]
  },
  {
   "cell_type": "code",
   "execution_count": null,
   "id": "91bb899e-daea-47aa-87ac-c2cf3916efbb",
   "metadata": {},
   "outputs": [],
   "source": []
  },
  {
   "cell_type": "code",
   "execution_count": 462,
   "id": "60264929-b50c-4409-b206-e5e2636e046e",
   "metadata": {},
   "outputs": [],
   "source": [
    "links = []\n",
    "count = 0\n",
    "for i in range(len(elements)):\n",
    "    if i == 39 + 4*count:\n",
    "        links.append(elements[i].get_attribute(\"href\"))\n",
    "        count += 1\n",
    "    if count == 71:\n",
    "        break\n",
    "        \n",
    "    "
   ]
  },
  {
   "cell_type": "code",
   "execution_count": 464,
   "id": "1217acd8-67dc-4c83-b3fa-ee68b2cf68ac",
   "metadata": {},
   "outputs": [
    {
     "data": {
      "text/plain": [
       "'https://www.youtube.com/watch?v=kHBzDvj3D2U'"
      ]
     },
     "execution_count": 464,
     "metadata": {},
     "output_type": "execute_result"
    }
   ],
   "source": [
    "links[0]"
   ]
  },
  {
   "cell_type": "code",
   "execution_count": 465,
   "id": "2bc13761-e923-467d-ba14-9c302ad73eac",
   "metadata": {},
   "outputs": [
    {
     "data": {
      "text/plain": [
       "71"
      ]
     },
     "execution_count": 465,
     "metadata": {},
     "output_type": "execute_result"
    }
   ],
   "source": [
    "len(links)"
   ]
  },
  {
   "cell_type": "code",
   "execution_count": 467,
   "id": "c169e868-f261-46f2-8733-674ec23b5aae",
   "metadata": {},
   "outputs": [
    {
     "data": {
      "text/plain": [
       "'https://www.youtube.com/watch?v=qCioG1rwM6I'"
      ]
     },
     "execution_count": 467,
     "metadata": {},
     "output_type": "execute_result"
    }
   ],
   "source": [
    "links[-1]"
   ]
  },
  {
   "cell_type": "code",
   "execution_count": 468,
   "id": "d6bfd0fa-efa8-496c-a00c-c4b4d25b2178",
   "metadata": {},
   "outputs": [
    {
     "data": {
      "text/plain": [
       "'All Your Queries Answered | DSA to Development Program | GeeksforGeeks'"
      ]
     },
     "execution_count": 468,
     "metadata": {},
     "output_type": "execute_result"
    }
   ],
   "source": [
    "elements[42].get_attribute(\"title\")"
   ]
  },
  {
   "cell_type": "code",
   "execution_count": 469,
   "id": "9b2ab0c7-7ba0-4e8c-ae6b-fb23091869dc",
   "metadata": {},
   "outputs": [],
   "source": [
    "titles = []\n",
    "count = 0\n",
    "for i in range(len(elements)):\n",
    "    if i == 42 + 4*count:\n",
    "        titles.append(elements[i].get_attribute(\"title\"))\n",
    "        count += 1\n",
    "    if count == 71:\n",
    "        break"
   ]
  },
  {
   "cell_type": "code",
   "execution_count": 470,
   "id": "8ab9325b-525a-4c91-8c9e-3e71e5e91235",
   "metadata": {},
   "outputs": [
    {
     "data": {
      "text/plain": [
       "\"LIVE DSA Sessions By Everyone's Favorite Teacher!\""
      ]
     },
     "execution_count": 470,
     "metadata": {},
     "output_type": "execute_result"
    }
   ],
   "source": [
    "titles[-1]"
   ]
  },
  {
   "cell_type": "code",
   "execution_count": 471,
   "id": "1201df0e-8aa2-488d-bc1f-0dab07ae8a82",
   "metadata": {},
   "outputs": [
    {
     "data": {
      "text/plain": [
       "71"
      ]
     },
     "execution_count": 471,
     "metadata": {},
     "output_type": "execute_result"
    }
   ],
   "source": [
    "len(titles)"
   ]
  },
  {
   "cell_type": "code",
   "execution_count": 472,
   "id": "f7e8a578-185c-43ad-bc2e-cdb28e0dcad0",
   "metadata": {},
   "outputs": [
    {
     "name": "stdout",
     "output_type": "stream",
     "text": [
      "71 71 71\n"
     ]
    }
   ],
   "source": [
    "print(len(titles),len(vl),len(links))"
   ]
  },
  {
   "cell_type": "code",
   "execution_count": null,
   "id": "c582998d-43a8-48e1-969a-f72c8bba896e",
   "metadata": {},
   "outputs": [],
   "source": []
  },
  {
   "cell_type": "markdown",
   "id": "2e6839be-335d-4ece-b84f-604c2d8b3e05",
   "metadata": {},
   "source": [
    "# Another method using regular expressions!"
   ]
  },
  {
   "cell_type": "code",
   "execution_count": 473,
   "id": "176ba022-e07f-48b7-b884-f7f1faf3dca2",
   "metadata": {},
   "outputs": [
    {
     "data": {
      "text/plain": [
       "' 6 days ago 9 minutes, 53 seconds 681 views'"
      ]
     },
     "execution_count": 473,
     "metadata": {},
     "output_type": "execute_result"
    }
   ],
   "source": [
    "x = elements[46].get_attribute(\"aria-label\").split('GeeksforGeeks by GeeksforGeeks')[-1]\n",
    "x"
   ]
  },
  {
   "cell_type": "code",
   "execution_count": 474,
   "id": "416c5c5c-9282-44bb-84ef-2de477eeacd6",
   "metadata": {},
   "outputs": [],
   "source": [
    "# import re\n",
    "\n",
    "# # Input string\n",
    "# input_string = x\n",
    "\n",
    "# # Regular expression patterns for each component\n",
    "# days_pattern = r'(\\d+)\\s+days?\\s+ago'\n",
    "# time_pattern = r'(\\d+)\\s+minutes?,\\s+(\\d+)\\s+seconds'\n",
    "# views_pattern = r'(\\d+)\\s+views'\n",
    "\n",
    "# # Extract components using regular expressions\n",
    "# days_match = re.search(days_pattern, input_string)\n",
    "# time_match = re.search(time_pattern, input_string)\n",
    "# views_match = re.search(views_pattern, input_string)\n",
    "\n",
    "# # Extracted values\n",
    "# days_ago = days_match.group(1) if days_match else None\n",
    "# minutes = time_match.group(1) if time_match else None\n",
    "# seconds = time_match.group(2) if time_match else None\n",
    "# views = views_match.group(1) if views_match else None\n",
    "\n",
    "# # Separate time component into minutes and seconds\n",
    "# time_component = f\"{minutes} minutes, {seconds} seconds\"\n",
    "\n",
    "# # Print extracted values\n",
    "# print(\"Days ago:\", days_ago)\n",
    "# print(\"Time component:\", time_component)\n",
    "# print(\"Views:\", views)\n",
    "\n",
    "# Output...\n",
    "# Days ago: 6\n",
    "# Time component: 9 minutes, 53 seconds\n",
    "# Views: 675"
   ]
  },
  {
   "cell_type": "code",
   "execution_count": null,
   "id": "094953b1-ec6b-4b00-aa46-e6d8a66dc2fc",
   "metadata": {},
   "outputs": [],
   "source": []
  },
  {
   "cell_type": "markdown",
   "id": "79ebf798-15dc-4680-8bb2-2826c6bf8f04",
   "metadata": {},
   "source": [
    "# Creation of the required Dataframe!"
   ]
  },
  {
   "cell_type": "code",
   "execution_count": 475,
   "id": "accfebef-c6b7-45db-b7fa-117cc412cbd6",
   "metadata": {},
   "outputs": [],
   "source": [
    "# Create a dictionary or list of lists to hold your data\n",
    "data = {\n",
    "    'Title': titles,\n",
    "    'Views': dynamic_info,\n",
    "    'Duration': vl,\n",
    "    'Link': links\n",
    "}"
   ]
  },
  {
   "cell_type": "code",
   "execution_count": 476,
   "id": "2d5c9b98-c20c-4621-b87a-75a3df41c398",
   "metadata": {},
   "outputs": [],
   "source": [
    "# Create a DataFrame using the data\n",
    "record = pd.DataFrame(data)\n"
   ]
  },
  {
   "cell_type": "code",
   "execution_count": 477,
   "id": "be970a63-7738-474e-a01a-fa40825fb325",
   "metadata": {},
   "outputs": [
    {
     "data": {
      "text/html": [
       "<div>\n",
       "<style scoped>\n",
       "    .dataframe tbody tr th:only-of-type {\n",
       "        vertical-align: middle;\n",
       "    }\n",
       "\n",
       "    .dataframe tbody tr th {\n",
       "        vertical-align: top;\n",
       "    }\n",
       "\n",
       "    .dataframe thead th {\n",
       "        text-align: right;\n",
       "    }\n",
       "</style>\n",
       "<table border=\"1\" class=\"dataframe\">\n",
       "  <thead>\n",
       "    <tr style=\"text-align: right;\">\n",
       "      <th></th>\n",
       "      <th>Title</th>\n",
       "      <th>Views</th>\n",
       "      <th>Duration</th>\n",
       "      <th>Link</th>\n",
       "    </tr>\n",
       "  </thead>\n",
       "  <tbody>\n",
       "    <tr>\n",
       "      <th>0</th>\n",
       "      <td>All Your Queries Answered | DSA to Development...</td>\n",
       "      <td>668 views</td>\n",
       "      <td>3:47</td>\n",
       "      <td>https://www.youtube.com/watch?v=kHBzDvj3D2U</td>\n",
       "    </tr>\n",
       "    <tr>\n",
       "      <th>1</th>\n",
       "      <td>10 TIPS and TRICKS to Crack Internships and Pl...</td>\n",
       "      <td>681 views</td>\n",
       "      <td>9:53</td>\n",
       "      <td>https://www.youtube.com/watch?v=2QDMIZGeIC4</td>\n",
       "    </tr>\n",
       "    <tr>\n",
       "      <th>2</th>\n",
       "      <td>Complete School Guide for CBSE | Free Resource...</td>\n",
       "      <td>508 views</td>\n",
       "      <td>0:56</td>\n",
       "      <td>https://www.youtube.com/watch?v=1ECMlxC6jbs</td>\n",
       "    </tr>\n",
       "    <tr>\n",
       "      <th>3</th>\n",
       "      <td>Master System Design | GeeksforGeeks</td>\n",
       "      <td>7.2K views</td>\n",
       "      <td>0:46</td>\n",
       "      <td>https://www.youtube.com/watch?v=vjWLZYeqiN8</td>\n",
       "    </tr>\n",
       "    <tr>\n",
       "      <th>4</th>\n",
       "      <td>Unraveling the Geek-a-thon: The What, How, and...</td>\n",
       "      <td>440 views</td>\n",
       "      <td>45:44</td>\n",
       "      <td>https://www.youtube.com/watch?v=6e0v_NhsFMQ</td>\n",
       "    </tr>\n",
       "  </tbody>\n",
       "</table>\n",
       "</div>"
      ],
      "text/plain": [
       "                                               Title       Views Duration  \\\n",
       "0  All Your Queries Answered | DSA to Development...   668 views     3:47   \n",
       "1  10 TIPS and TRICKS to Crack Internships and Pl...   681 views     9:53   \n",
       "2  Complete School Guide for CBSE | Free Resource...   508 views     0:56   \n",
       "3               Master System Design | GeeksforGeeks  7.2K views     0:46   \n",
       "4  Unraveling the Geek-a-thon: The What, How, and...   440 views    45:44   \n",
       "\n",
       "                                          Link  \n",
       "0  https://www.youtube.com/watch?v=kHBzDvj3D2U  \n",
       "1  https://www.youtube.com/watch?v=2QDMIZGeIC4  \n",
       "2  https://www.youtube.com/watch?v=1ECMlxC6jbs  \n",
       "3  https://www.youtube.com/watch?v=vjWLZYeqiN8  \n",
       "4  https://www.youtube.com/watch?v=6e0v_NhsFMQ  "
      ]
     },
     "execution_count": 477,
     "metadata": {},
     "output_type": "execute_result"
    }
   ],
   "source": [
    "record.head()"
   ]
  },
  {
   "cell_type": "code",
   "execution_count": 478,
   "id": "c61d5038-7f29-42c6-9a85-4277f175c185",
   "metadata": {},
   "outputs": [
    {
     "data": {
      "text/plain": [
       "(71, 4)"
      ]
     },
     "execution_count": 478,
     "metadata": {},
     "output_type": "execute_result"
    }
   ],
   "source": [
    "record.shape"
   ]
  },
  {
   "cell_type": "code",
   "execution_count": 480,
   "id": "91a3d99d-0aad-4361-b641-d3496e69c1df",
   "metadata": {},
   "outputs": [],
   "source": [
    "# Save the DataFrame to a CSV file\n",
    "csv_filename = 'geeksforgeeksyt.csv'\n",
    "record.to_csv(csv_filename, index=False)"
   ]
  },
  {
   "cell_type": "code",
   "execution_count": null,
   "id": "eb420479-d0fd-487b-8c1f-2afb60d7b359",
   "metadata": {},
   "outputs": [],
   "source": []
  },
  {
   "cell_type": "markdown",
   "id": "3e11a10f-9197-4312-b1a2-a22646b2d337",
   "metadata": {},
   "source": [
    "# 3.Name the most viewed topics in the past 6 months."
   ]
  },
  {
   "cell_type": "code",
   "execution_count": 482,
   "id": "67e93dcb-bbea-4cf8-8dbc-7aa1bd7ebe19",
   "metadata": {},
   "outputs": [
    {
     "data": {
      "text/plain": [
       "array(['668 views', '681 views', '508 views', '7.2K views', '440 views',\n",
       "       '596 views', '9K views', '14K views', '601 views', '1K views',\n",
       "       '600 views', '3.3K views', '1.5K views', '1.1K views', '1K views',\n",
       "       '1.1K views', '50K views', '968 views', '1K views', '106K views',\n",
       "       '1.3K views', '939 views', '92K views', '2.4K views', '2.5K views',\n",
       "       '2.7K views', '28K views', '2.3K views', '3K views', '112K views',\n",
       "       '2.2K views', '3.1K views', '82K views', '2.6K views', '14K views',\n",
       "       '1.3K views', '1.2K views', '1.1K views', '34K views',\n",
       "       '2.4K views', '1K views', '25K views', '4.7K views', '5.2K views',\n",
       "       '1K views', '14K views', '3.9K views', '74K views', '1.1K views',\n",
       "       '847 views', '5.8K views', '1.5K views', '1.7K views',\n",
       "       '1.4K views', '2.4K views', '25K views', '1.9K views',\n",
       "       '1.6K views', '613 views', '1.6K views', '1.7K views',\n",
       "       '2.8K views', '2.4K views', '1.9K views', '6.7K views',\n",
       "       '7.1K views', '1.5K views', '5.4K views', '1.2K views',\n",
       "       '2.4K views', '4.7K views'], dtype=object)"
      ]
     },
     "execution_count": 482,
     "metadata": {},
     "output_type": "execute_result"
    }
   ],
   "source": [
    "record.Views.values"
   ]
  },
  {
   "cell_type": "code",
   "execution_count": 483,
   "id": "750fba55-acc9-423c-bdf1-5b163496c0e6",
   "metadata": {},
   "outputs": [],
   "source": [
    "def str_to_int(view_string):\n",
    "\n",
    "    # 'Billion is a rare case!\n",
    "    power = 0\n",
    "    if 'K' in view_string:\n",
    "        power = 3\n",
    "    elif 'M' in view_string:\n",
    "        power = 6\n",
    "    elif 'B' in view_string:\n",
    "        power = 9\n",
    "    else:\n",
    "        power = 0\n",
    "    # Remove non-numeric characters and convert 'K' to '000'\n",
    "    cleaned_string = view_string.replace('K', '000').replace('M','000000').replace('views', '').replace(',', '').strip()\n",
    "    \n",
    "    # Convert the cleaned string to an integer\n",
    "    # Check if the cleaned string contains a decimal point\n",
    "    if '.' in cleaned_string:\n",
    "        view_count = float(cleaned_string)*(10**power)\n",
    "    else:\n",
    "        view_count = int(cleaned_string)\n",
    "\n",
    "    return view_count\n",
    "    "
   ]
  },
  {
   "cell_type": "code",
   "execution_count": 484,
   "id": "4a68a326-064a-4b80-9de6-060d80de4866",
   "metadata": {},
   "outputs": [
    {
     "data": {
      "text/plain": [
       "613"
      ]
     },
     "execution_count": 484,
     "metadata": {},
     "output_type": "execute_result"
    }
   ],
   "source": [
    "str_to_int('613 views')"
   ]
  },
  {
   "cell_type": "code",
   "execution_count": 485,
   "id": "ee5e9cf2-c40d-47d1-aaa1-c27362dff807",
   "metadata": {},
   "outputs": [
    {
     "data": {
      "text/plain": [
       "2500.0"
      ]
     },
     "execution_count": 485,
     "metadata": {},
     "output_type": "execute_result"
    }
   ],
   "source": [
    "str_to_int('2.5K views')"
   ]
  },
  {
   "cell_type": "code",
   "execution_count": 486,
   "id": "3abb3ca7-cb72-4767-bd90-f100a9c91404",
   "metadata": {},
   "outputs": [],
   "source": [
    "record['Views'] = record['Views'].apply(str_to_int)"
   ]
  },
  {
   "cell_type": "code",
   "execution_count": 487,
   "id": "2de74f38-5d22-4d43-90d9-da52ae90b82e",
   "metadata": {},
   "outputs": [
    {
     "data": {
      "text/html": [
       "<div>\n",
       "<style scoped>\n",
       "    .dataframe tbody tr th:only-of-type {\n",
       "        vertical-align: middle;\n",
       "    }\n",
       "\n",
       "    .dataframe tbody tr th {\n",
       "        vertical-align: top;\n",
       "    }\n",
       "\n",
       "    .dataframe thead th {\n",
       "        text-align: right;\n",
       "    }\n",
       "</style>\n",
       "<table border=\"1\" class=\"dataframe\">\n",
       "  <thead>\n",
       "    <tr style=\"text-align: right;\">\n",
       "      <th></th>\n",
       "      <th>Title</th>\n",
       "      <th>Views</th>\n",
       "      <th>Duration</th>\n",
       "      <th>Link</th>\n",
       "    </tr>\n",
       "  </thead>\n",
       "  <tbody>\n",
       "    <tr>\n",
       "      <th>0</th>\n",
       "      <td>All Your Queries Answered | DSA to Development...</td>\n",
       "      <td>668.0</td>\n",
       "      <td>3:47</td>\n",
       "      <td>https://www.youtube.com/watch?v=kHBzDvj3D2U</td>\n",
       "    </tr>\n",
       "    <tr>\n",
       "      <th>1</th>\n",
       "      <td>10 TIPS and TRICKS to Crack Internships and Pl...</td>\n",
       "      <td>681.0</td>\n",
       "      <td>9:53</td>\n",
       "      <td>https://www.youtube.com/watch?v=2QDMIZGeIC4</td>\n",
       "    </tr>\n",
       "    <tr>\n",
       "      <th>2</th>\n",
       "      <td>Complete School Guide for CBSE | Free Resource...</td>\n",
       "      <td>508.0</td>\n",
       "      <td>0:56</td>\n",
       "      <td>https://www.youtube.com/watch?v=1ECMlxC6jbs</td>\n",
       "    </tr>\n",
       "    <tr>\n",
       "      <th>3</th>\n",
       "      <td>Master System Design | GeeksforGeeks</td>\n",
       "      <td>7200.0</td>\n",
       "      <td>0:46</td>\n",
       "      <td>https://www.youtube.com/watch?v=vjWLZYeqiN8</td>\n",
       "    </tr>\n",
       "    <tr>\n",
       "      <th>4</th>\n",
       "      <td>Unraveling the Geek-a-thon: The What, How, and...</td>\n",
       "      <td>440.0</td>\n",
       "      <td>45:44</td>\n",
       "      <td>https://www.youtube.com/watch?v=6e0v_NhsFMQ</td>\n",
       "    </tr>\n",
       "  </tbody>\n",
       "</table>\n",
       "</div>"
      ],
      "text/plain": [
       "                                               Title   Views Duration  \\\n",
       "0  All Your Queries Answered | DSA to Development...   668.0     3:47   \n",
       "1  10 TIPS and TRICKS to Crack Internships and Pl...   681.0     9:53   \n",
       "2  Complete School Guide for CBSE | Free Resource...   508.0     0:56   \n",
       "3               Master System Design | GeeksforGeeks  7200.0     0:46   \n",
       "4  Unraveling the Geek-a-thon: The What, How, and...   440.0    45:44   \n",
       "\n",
       "                                          Link  \n",
       "0  https://www.youtube.com/watch?v=kHBzDvj3D2U  \n",
       "1  https://www.youtube.com/watch?v=2QDMIZGeIC4  \n",
       "2  https://www.youtube.com/watch?v=1ECMlxC6jbs  \n",
       "3  https://www.youtube.com/watch?v=vjWLZYeqiN8  \n",
       "4  https://www.youtube.com/watch?v=6e0v_NhsFMQ  "
      ]
     },
     "execution_count": 487,
     "metadata": {},
     "output_type": "execute_result"
    }
   ],
   "source": [
    "record.head()"
   ]
  },
  {
   "cell_type": "code",
   "execution_count": null,
   "id": "7113e444-a3ba-4bdc-be30-82149318f09d",
   "metadata": {},
   "outputs": [],
   "source": []
  },
  {
   "cell_type": "code",
   "execution_count": 488,
   "id": "ec6a41b3-2586-4b2c-8690-828383c6dce8",
   "metadata": {},
   "outputs": [],
   "source": [
    "title_group = record.groupby('Title')"
   ]
  },
  {
   "cell_type": "code",
   "execution_count": 676,
   "id": "1fd8edb7-43c0-4d99-a384-680a73e05ae2",
   "metadata": {},
   "outputs": [],
   "source": [
    "most_views = title_group.sum().Views.sort_values(ascending = False)"
   ]
  },
  {
   "cell_type": "code",
   "execution_count": 677,
   "id": "d0dae428-734d-4afc-a81c-1ffb2b0fd1c5",
   "metadata": {},
   "outputs": [
    {
     "data": {
      "text/plain": [
       "Title\n",
       "GeeksforGeeks Classroom Program | Now in Noida and Gurugram!                                  112000.0\n",
       "Free Summer Offline Classes on Python Programing | For Students Aged 14-21 | GeeksforGeeks    106000.0\n",
       "Full Stack Development | LIVE Classes | GeeksforGeeks                                          92000.0\n",
       "Job Fair for Students | Till 25th May Only | GeeksforGeeks                                     82000.0\n",
       "Master DSA Today and be the Masters of Tomorrow                                                74000.0\n",
       "DSA To Development: A Complete Coding Guide | Complete Coding Program By GeeksforGeeks         50000.0\n",
       "Create Your Own Apps Today | GeeksforGeeks                                                     34000.0\n",
       "Gate 2024: Prepare for Success! | GATE CSE 2024 | GeeksforGeeks                                28000.0\n",
       "Rule the Coding World with Geek Summer Carnival | GeeksforGeeks                                25000.0\n",
       "GeeksforGeeks Job Fair 2023                                                                    25000.0\n",
       "Name: Views, dtype: float64"
      ]
     },
     "execution_count": 677,
     "metadata": {},
     "output_type": "execute_result"
    }
   ],
   "source": [
    "most_views[:10]"
   ]
  },
  {
   "cell_type": "code",
   "execution_count": null,
   "id": "b9cbd812-abf5-4e4a-a6f9-41b40d3d33a8",
   "metadata": {},
   "outputs": [],
   "source": []
  },
  {
   "cell_type": "code",
   "execution_count": null,
   "id": "91cbb8e1-16da-4d98-8bd5-66c040f92467",
   "metadata": {},
   "outputs": [],
   "source": []
  },
  {
   "cell_type": "markdown",
   "id": "2a644ef3-a8fe-44a7-801b-5a1b46ca1660",
   "metadata": {},
   "source": [
    "# 4. Name the topics with the highest video length.\n"
   ]
  },
  {
   "cell_type": "code",
   "execution_count": null,
   "id": "ed2c778b-2d3c-4746-844d-0e76995649b5",
   "metadata": {},
   "outputs": [],
   "source": []
  },
  {
   "cell_type": "code",
   "execution_count": 498,
   "id": "4ed29802-ec06-4e7b-88ba-de3c01174c5a",
   "metadata": {},
   "outputs": [
    {
     "data": {
      "text/plain": [
       "array(['3:47', '9:53', '0:56', '0:46', '45:44', '1:29:21', '0:28', '0:30',\n",
       "       '0:37', '0:36', '2:51', '0:46', '17:08', '0:10', '2:47', '0:56',\n",
       "       '0:43', '8:50', '12:14', '0:37', '1:26', '5:40', '0:35', '0:37',\n",
       "       '9:48', '10:48', '0:52', '1:39', '1:35', '0:38', '28:45', '3:17',\n",
       "       '0:39', '8:44', '0:54', '2:03', '1:12', '0:56', '0:38', '5:38',\n",
       "       '1:32', '0:42', '11:57', '1:35', '2:03', '16:45', '3:42', '0:25',\n",
       "       '31:37', '19:28', '31:56', '11:55', '18:30', '1:05', '0:47',\n",
       "       '0:31', '35:45', '15:30', '0:31', '37:22', '0:26', '3:30', '1:52',\n",
       "       '6:55', '15:06', '2:41', '1:02', '3:58', '0:46', '7:19', '0:32'],\n",
       "      dtype=object)"
      ]
     },
     "execution_count": 498,
     "metadata": {},
     "output_type": "execute_result"
    }
   ],
   "source": [
    "record.Duration.values"
   ]
  },
  {
   "cell_type": "code",
   "execution_count": null,
   "id": "6ebb4b97-841d-4d10-8477-4d53870a0195",
   "metadata": {},
   "outputs": [],
   "source": []
  },
  {
   "cell_type": "code",
   "execution_count": null,
   "id": "7671fe2b-7244-4f39-9759-bb800b6ab05a",
   "metadata": {},
   "outputs": [],
   "source": []
  },
  {
   "cell_type": "code",
   "execution_count": 553,
   "id": "b8da65a3-d415-4460-a69c-a3ff4cd57dd5",
   "metadata": {},
   "outputs": [],
   "source": [
    "def time_length(x):\n",
    "    v = x.split(':')\n",
    "    time = 0\n",
    "    i = 0\n",
    "    l = len(v)-1\n",
    "    while i < len(v):\n",
    "        time += int(v[i])*(60**l)\n",
    "        \n",
    "        l -= 1\n",
    "        i += 1\n",
    "        \n",
    "    \n",
    "    \n",
    "    return time"
   ]
  },
  {
   "cell_type": "code",
   "execution_count": 555,
   "id": "66fccf17-017a-45e2-90cd-3240c19e6e0d",
   "metadata": {},
   "outputs": [
    {
     "data": {
      "text/plain": [
       "4248"
      ]
     },
     "execution_count": 555,
     "metadata": {},
     "output_type": "execute_result"
    }
   ],
   "source": [
    "time_length('1:10:48')"
   ]
  },
  {
   "cell_type": "code",
   "execution_count": 556,
   "id": "c96cedee-f85b-48a2-aaf1-ad0a385279b9",
   "metadata": {},
   "outputs": [
    {
     "data": {
      "text/plain": [
       "648"
      ]
     },
     "execution_count": 556,
     "metadata": {},
     "output_type": "execute_result"
    }
   ],
   "source": [
    "time_length('10:48')"
   ]
  },
  {
   "cell_type": "code",
   "execution_count": 558,
   "id": "63275bdb-f52b-4d00-9b9b-c1acd58fa7ac",
   "metadata": {},
   "outputs": [],
   "source": [
    "record['Duration'] = record['Duration'].apply(time_length)"
   ]
  },
  {
   "cell_type": "code",
   "execution_count": 578,
   "id": "a9b0cfc4-1962-445b-b408-307d54289ee6",
   "metadata": {},
   "outputs": [
    {
     "data": {
      "text/html": [
       "<div>\n",
       "<style scoped>\n",
       "    .dataframe tbody tr th:only-of-type {\n",
       "        vertical-align: middle;\n",
       "    }\n",
       "\n",
       "    .dataframe tbody tr th {\n",
       "        vertical-align: top;\n",
       "    }\n",
       "\n",
       "    .dataframe thead th {\n",
       "        text-align: right;\n",
       "    }\n",
       "</style>\n",
       "<table border=\"1\" class=\"dataframe\">\n",
       "  <thead>\n",
       "    <tr style=\"text-align: right;\">\n",
       "      <th></th>\n",
       "      <th>Title</th>\n",
       "      <th>Views</th>\n",
       "      <th>Duration</th>\n",
       "      <th>Link</th>\n",
       "    </tr>\n",
       "  </thead>\n",
       "  <tbody>\n",
       "    <tr>\n",
       "      <th>0</th>\n",
       "      <td>All Your Queries Answered | DSA to Development...</td>\n",
       "      <td>668.0</td>\n",
       "      <td>227</td>\n",
       "      <td>https://www.youtube.com/watch?v=kHBzDvj3D2U</td>\n",
       "    </tr>\n",
       "    <tr>\n",
       "      <th>1</th>\n",
       "      <td>10 TIPS and TRICKS to Crack Internships and Pl...</td>\n",
       "      <td>681.0</td>\n",
       "      <td>593</td>\n",
       "      <td>https://www.youtube.com/watch?v=2QDMIZGeIC4</td>\n",
       "    </tr>\n",
       "    <tr>\n",
       "      <th>2</th>\n",
       "      <td>Complete School Guide for CBSE | Free Resource...</td>\n",
       "      <td>508.0</td>\n",
       "      <td>56</td>\n",
       "      <td>https://www.youtube.com/watch?v=1ECMlxC6jbs</td>\n",
       "    </tr>\n",
       "    <tr>\n",
       "      <th>3</th>\n",
       "      <td>Master System Design | GeeksforGeeks</td>\n",
       "      <td>7200.0</td>\n",
       "      <td>46</td>\n",
       "      <td>https://www.youtube.com/watch?v=vjWLZYeqiN8</td>\n",
       "    </tr>\n",
       "    <tr>\n",
       "      <th>4</th>\n",
       "      <td>Unraveling the Geek-a-thon: The What, How, and...</td>\n",
       "      <td>440.0</td>\n",
       "      <td>2744</td>\n",
       "      <td>https://www.youtube.com/watch?v=6e0v_NhsFMQ</td>\n",
       "    </tr>\n",
       "  </tbody>\n",
       "</table>\n",
       "</div>"
      ],
      "text/plain": [
       "                                               Title   Views  Duration  \\\n",
       "0  All Your Queries Answered | DSA to Development...   668.0       227   \n",
       "1  10 TIPS and TRICKS to Crack Internships and Pl...   681.0       593   \n",
       "2  Complete School Guide for CBSE | Free Resource...   508.0        56   \n",
       "3               Master System Design | GeeksforGeeks  7200.0        46   \n",
       "4  Unraveling the Geek-a-thon: The What, How, and...   440.0      2744   \n",
       "\n",
       "                                          Link  \n",
       "0  https://www.youtube.com/watch?v=kHBzDvj3D2U  \n",
       "1  https://www.youtube.com/watch?v=2QDMIZGeIC4  \n",
       "2  https://www.youtube.com/watch?v=1ECMlxC6jbs  \n",
       "3  https://www.youtube.com/watch?v=vjWLZYeqiN8  \n",
       "4  https://www.youtube.com/watch?v=6e0v_NhsFMQ  "
      ]
     },
     "execution_count": 578,
     "metadata": {},
     "output_type": "execute_result"
    }
   ],
   "source": [
    "record.head()"
   ]
  },
  {
   "cell_type": "code",
   "execution_count": 579,
   "id": "7a090941-2b49-4051-9327-d1afd00cf1e5",
   "metadata": {},
   "outputs": [],
   "source": [
    "record.rename(columns={'Duration': 'Duration(s)'}, inplace=True)\n"
   ]
  },
  {
   "cell_type": "code",
   "execution_count": 581,
   "id": "281cfebb-9003-41b8-867f-4bcb501d7949",
   "metadata": {},
   "outputs": [
    {
     "data": {
      "text/html": [
       "<div>\n",
       "<style scoped>\n",
       "    .dataframe tbody tr th:only-of-type {\n",
       "        vertical-align: middle;\n",
       "    }\n",
       "\n",
       "    .dataframe tbody tr th {\n",
       "        vertical-align: top;\n",
       "    }\n",
       "\n",
       "    .dataframe thead th {\n",
       "        text-align: right;\n",
       "    }\n",
       "</style>\n",
       "<table border=\"1\" class=\"dataframe\">\n",
       "  <thead>\n",
       "    <tr style=\"text-align: right;\">\n",
       "      <th></th>\n",
       "      <th>Title</th>\n",
       "      <th>Views</th>\n",
       "      <th>Duration(s)</th>\n",
       "      <th>Link</th>\n",
       "    </tr>\n",
       "  </thead>\n",
       "  <tbody>\n",
       "    <tr>\n",
       "      <th>0</th>\n",
       "      <td>All Your Queries Answered | DSA to Development...</td>\n",
       "      <td>668.0</td>\n",
       "      <td>227</td>\n",
       "      <td>https://www.youtube.com/watch?v=kHBzDvj3D2U</td>\n",
       "    </tr>\n",
       "    <tr>\n",
       "      <th>1</th>\n",
       "      <td>10 TIPS and TRICKS to Crack Internships and Pl...</td>\n",
       "      <td>681.0</td>\n",
       "      <td>593</td>\n",
       "      <td>https://www.youtube.com/watch?v=2QDMIZGeIC4</td>\n",
       "    </tr>\n",
       "    <tr>\n",
       "      <th>2</th>\n",
       "      <td>Complete School Guide for CBSE | Free Resource...</td>\n",
       "      <td>508.0</td>\n",
       "      <td>56</td>\n",
       "      <td>https://www.youtube.com/watch?v=1ECMlxC6jbs</td>\n",
       "    </tr>\n",
       "    <tr>\n",
       "      <th>3</th>\n",
       "      <td>Master System Design | GeeksforGeeks</td>\n",
       "      <td>7200.0</td>\n",
       "      <td>46</td>\n",
       "      <td>https://www.youtube.com/watch?v=vjWLZYeqiN8</td>\n",
       "    </tr>\n",
       "    <tr>\n",
       "      <th>4</th>\n",
       "      <td>Unraveling the Geek-a-thon: The What, How, and...</td>\n",
       "      <td>440.0</td>\n",
       "      <td>2744</td>\n",
       "      <td>https://www.youtube.com/watch?v=6e0v_NhsFMQ</td>\n",
       "    </tr>\n",
       "  </tbody>\n",
       "</table>\n",
       "</div>"
      ],
      "text/plain": [
       "                                               Title   Views  Duration(s)  \\\n",
       "0  All Your Queries Answered | DSA to Development...   668.0          227   \n",
       "1  10 TIPS and TRICKS to Crack Internships and Pl...   681.0          593   \n",
       "2  Complete School Guide for CBSE | Free Resource...   508.0           56   \n",
       "3               Master System Design | GeeksforGeeks  7200.0           46   \n",
       "4  Unraveling the Geek-a-thon: The What, How, and...   440.0         2744   \n",
       "\n",
       "                                          Link  \n",
       "0  https://www.youtube.com/watch?v=kHBzDvj3D2U  \n",
       "1  https://www.youtube.com/watch?v=2QDMIZGeIC4  \n",
       "2  https://www.youtube.com/watch?v=1ECMlxC6jbs  \n",
       "3  https://www.youtube.com/watch?v=vjWLZYeqiN8  \n",
       "4  https://www.youtube.com/watch?v=6e0v_NhsFMQ  "
      ]
     },
     "execution_count": 581,
     "metadata": {},
     "output_type": "execute_result"
    }
   ],
   "source": [
    "record.head()"
   ]
  },
  {
   "cell_type": "code",
   "execution_count": 584,
   "id": "18babc9c-17f0-40d5-8974-76fd661b847c",
   "metadata": {},
   "outputs": [],
   "source": [
    "title_group2 = record.groupby('Title')"
   ]
  },
  {
   "cell_type": "code",
   "execution_count": 674,
   "id": "c0bd9c10-9082-4018-98a6-66115c38f82d",
   "metadata": {},
   "outputs": [],
   "source": [
    "max_length = title_group2.sum()['Duration(s)'].sort_values(ascending = False)"
   ]
  },
  {
   "cell_type": "code",
   "execution_count": 675,
   "id": "6cdd24af-85aa-4e1c-a86e-b05ff37a3d5a",
   "metadata": {},
   "outputs": [
    {
     "data": {
      "text/plain": [
       "Title\n",
       "Data Analysis Masterclass | Geek-A-Thon | GeeksforGeeks                                               5361\n",
       "Unraveling the Geek-a-thon: The What, How, and Why | Geek-A-Thon | GeeksforGeeks                      2744\n",
       "Meet Shikar Goel, CTO of GeeksforGeeks | Know His Journey                                             2242\n",
       "OpenAI's ChatGPT & GPT 4 | Google's BARD AI | Will AI Replace You?                                    2145\n",
       "CodeCast Ep. 3 | Learn all About Competitive Programming | @PriyanshAgarwal  with Mr. Sandeep Jain    1916\n",
       "How to avoid getting Laid Off | ft. Dr. Sneha Sharma                                                  1897\n",
       "Transformers in NLP | GeeksforGeeks                                                                   1725\n",
       "Psychology of Deciding Your Career ft. Dhairya Gangwani | GeeksforGeeks                               1168\n",
       "Roadmap to Amazon | Twinkle Bajaj - SDE at Amazon                                                     1110\n",
       "Web 3.0 Explained | GeeksforGeeks                                                                     1028\n",
       "Name: Duration(s), dtype: int64"
      ]
     },
     "execution_count": 675,
     "metadata": {},
     "output_type": "execute_result"
    }
   ],
   "source": [
    "max_length[:10]"
   ]
  },
  {
   "cell_type": "code",
   "execution_count": null,
   "id": "d4a6b6c7-f045-4b11-b12b-4d08f827c7e4",
   "metadata": {},
   "outputs": [],
   "source": []
  },
  {
   "cell_type": "code",
   "execution_count": null,
   "id": "c508fdb1-5478-43c2-9c1a-96e3c083f4b7",
   "metadata": {},
   "outputs": [],
   "source": []
  },
  {
   "cell_type": "markdown",
   "id": "8c5d2dcd-5acc-4cd3-b943-10d74e968c43",
   "metadata": {},
   "source": [
    "# 5.Make a comparison between the number of views and video length using a Graph."
   ]
  },
  {
   "cell_type": "code",
   "execution_count": 597,
   "id": "300ef906-9fda-4f49-9c2a-6e4fecf06a2e",
   "metadata": {},
   "outputs": [],
   "source": [
    "import matplotlib.pyplot as plt"
   ]
  },
  {
   "cell_type": "code",
   "execution_count": null,
   "id": "3b90b276-5225-44c2-9e80-f23bcbd52d04",
   "metadata": {},
   "outputs": [],
   "source": []
  },
  {
   "cell_type": "code",
   "execution_count": null,
   "id": "a2175158-e7bd-4022-b722-b579c2ec9546",
   "metadata": {},
   "outputs": [],
   "source": []
  },
  {
   "cell_type": "code",
   "execution_count": 618,
   "id": "dd849e96-36ee-4764-a25d-79be923fbf43",
   "metadata": {},
   "outputs": [
    {
     "data": {
      "text/plain": [
       "Text(0, 0.5, 'Views')"
      ]
     },
     "execution_count": 618,
     "metadata": {},
     "output_type": "execute_result"
    },
    {
     "data": {
      "image/png": "[encoded data removed]",
      "text/plain": [
       "<Figure size 640x480 with 1 Axes>"
      ]
     },
     "metadata": {},
     "output_type": "display_data"
    }
   ],
   "source": [
    "plt.scatter(record['Duration(s)']/60,record['Views'])\n",
    "plt.xlabel(\"Duration(minutes)\")\n",
    "plt.ylabel(\"Views\")"
   ]
  },
  {
   "cell_type": "markdown",
   "id": "4b69a7ba-b397-45c5-bdff-78e92a7e863a",
   "metadata": {},
   "source": [
    "# From this plot, it is clear that viewers prefer more short theme contents of geeksforgeeks!\n"
   ]
  },
  {
   "cell_type": "code",
   "execution_count": 629,
   "id": "70d83457-6ac0-4383-a612-dbb698d32973",
   "metadata": {},
   "outputs": [],
   "source": []
  },
  {
   "cell_type": "code",
   "execution_count": null,
   "id": "3eaaba99-74c2-4a04-a445-73e17f6035b8",
   "metadata": {
    "scrolled": true
   },
   "outputs": [],
   "source": []
  },
  {
   "cell_type": "markdown",
   "id": "f9faa88c-dba7-4f76-89b5-eb5a266748de",
   "metadata": {},
   "source": [
    "# This Dataframe says it all!"
   ]
  },
  {
   "cell_type": "code",
   "execution_count": 644,
   "id": "341f1111-3dd7-4334-b352-b320e204e9f4",
   "metadata": {},
   "outputs": [],
   "source": [
    "group3 = record.groupby(['Title','Views','Duration(s)'])\n"
   ]
  },
  {
   "cell_type": "code",
   "execution_count": 653,
   "id": "39626ab4-067f-4509-ba08-a9737823dc14",
   "metadata": {},
   "outputs": [
    {
     "data": {
      "text/html": [
       "<div>\n",
       "<style scoped>\n",
       "    .dataframe tbody tr th:only-of-type {\n",
       "        vertical-align: middle;\n",
       "    }\n",
       "\n",
       "    .dataframe tbody tr th {\n",
       "        vertical-align: top;\n",
       "    }\n",
       "\n",
       "    .dataframe thead th {\n",
       "        text-align: right;\n",
       "    }\n",
       "</style>\n",
       "<table border=\"1\" class=\"dataframe\">\n",
       "  <thead>\n",
       "    <tr style=\"text-align: right;\">\n",
       "      <th></th>\n",
       "      <th></th>\n",
       "      <th></th>\n",
       "      <th>Link</th>\n",
       "    </tr>\n",
       "    <tr>\n",
       "      <th>Title</th>\n",
       "      <th>Views</th>\n",
       "      <th>Duration(s)</th>\n",
       "      <th></th>\n",
       "    </tr>\n",
       "  </thead>\n",
       "  <tbody>\n",
       "    <tr>\n",
       "      <th>GeeksforGeeks Classroom Program | Now in Noida and Gurugram!</th>\n",
       "      <th>112000.0</th>\n",
       "      <th>38</th>\n",
       "      <td>https://www.youtube.com/watch?v=16D2cuRy5JY</td>\n",
       "    </tr>\n",
       "    <tr>\n",
       "      <th>Free Summer Offline Classes on Python Programing | For Students Aged 14-21 | GeeksforGeeks</th>\n",
       "      <th>106000.0</th>\n",
       "      <th>37</th>\n",
       "      <td>https://www.youtube.com/watch?v=OOLXHwZzHfM</td>\n",
       "    </tr>\n",
       "    <tr>\n",
       "      <th>Full Stack Development | LIVE Classes | GeeksforGeeks</th>\n",
       "      <th>92000.0</th>\n",
       "      <th>35</th>\n",
       "      <td>https://www.youtube.com/watch?v=cBfC9HLR9Qk</td>\n",
       "    </tr>\n",
       "    <tr>\n",
       "      <th>Job Fair for Students | Till 25th May Only | GeeksforGeeks</th>\n",
       "      <th>82000.0</th>\n",
       "      <th>39</th>\n",
       "      <td>https://www.youtube.com/watch?v=1GEegOb3fHE</td>\n",
       "    </tr>\n",
       "    <tr>\n",
       "      <th>Master DSA Today and be the Masters of Tomorrow</th>\n",
       "      <th>74000.0</th>\n",
       "      <th>25</th>\n",
       "      <td>https://www.youtube.com/watch?v=PsOXP5hg52w</td>\n",
       "    </tr>\n",
       "    <tr>\n",
       "      <th>DSA To Development: A Complete Coding Guide | Complete Coding Program By GeeksforGeeks</th>\n",
       "      <th>50000.0</th>\n",
       "      <th>43</th>\n",
       "      <td>https://www.youtube.com/watch?v=phr8lXH2Ee0</td>\n",
       "    </tr>\n",
       "    <tr>\n",
       "      <th>Create Your Own Apps Today | GeeksforGeeks</th>\n",
       "      <th>34000.0</th>\n",
       "      <th>38</th>\n",
       "      <td>https://www.youtube.com/watch?v=LycNCWC3g18</td>\n",
       "    </tr>\n",
       "    <tr>\n",
       "      <th>Gate 2024: Prepare for Success! | GATE CSE 2024 | GeeksforGeeks</th>\n",
       "      <th>28000.0</th>\n",
       "      <th>52</th>\n",
       "      <td>https://www.youtube.com/watch?v=G-3vZKPEtKw</td>\n",
       "    </tr>\n",
       "    <tr>\n",
       "      <th>Rule the Coding World with Geek Summer Carnival | GeeksforGeeks</th>\n",
       "      <th>25000.0</th>\n",
       "      <th>42</th>\n",
       "      <td>https://www.youtube.com/watch?v=zLj3Qb9T2Q4</td>\n",
       "    </tr>\n",
       "    <tr>\n",
       "      <th>GeeksforGeeks Job Fair 2023</th>\n",
       "      <th>25000.0</th>\n",
       "      <th>31</th>\n",
       "      <td>https://www.youtube.com/watch?v=xIC1IFPod9Y</td>\n",
       "    </tr>\n",
       "    <tr>\n",
       "      <th>Hire Best Talent with GeeksforGeeks</th>\n",
       "      <th>14000.0</th>\n",
       "      <th>54</th>\n",
       "      <td>https://www.youtube.com/watch?v=xifGlf39ahQ</td>\n",
       "    </tr>\n",
       "    <tr>\n",
       "      <th>Age is Just a Number: The Story of a 14-Year-Old CEO | CodeCast | GeeksforGeeks</th>\n",
       "      <th>14000.0</th>\n",
       "      <th>1005</th>\n",
       "      <td>https://www.youtube.com/watch?v=TASew4CmC9w</td>\n",
       "    </tr>\n",
       "    <tr>\n",
       "      <th>Kickstart your DevOps Career | GeeksforGeeks</th>\n",
       "      <th>14000.0</th>\n",
       "      <th>30</th>\n",
       "      <td>https://www.youtube.com/watch?v=8gwwlpBwr_s</td>\n",
       "    </tr>\n",
       "    <tr>\n",
       "      <th>GeeksforGeeks Offline Classroom Program | Now Open In Noida &amp; Gurgaon</th>\n",
       "      <th>9000.0</th>\n",
       "      <th>28</th>\n",
       "      <td>https://www.youtube.com/watch?v=2bPiFkt3Nmg</td>\n",
       "    </tr>\n",
       "    <tr>\n",
       "      <th>Master System Design | GeeksforGeeks</th>\n",
       "      <th>7200.0</th>\n",
       "      <th>46</th>\n",
       "      <td>https://www.youtube.com/watch?v=vjWLZYeqiN8</td>\n",
       "    </tr>\n",
       "    <tr>\n",
       "      <th>Optimal Way to Get Started with DSA | GeeksforGeeks</th>\n",
       "      <th>7100.0</th>\n",
       "      <th>161</th>\n",
       "      <td>https://www.youtube.com/watch?v=-WLD1oY2dB4</td>\n",
       "    </tr>\n",
       "    <tr>\n",
       "      <th>The Art of Becoming a Successful Coder | GeeksforGeeks</th>\n",
       "      <th>6700.0</th>\n",
       "      <th>906</th>\n",
       "      <td>https://www.youtube.com/watch?v=jO2SyGwS4bA</td>\n",
       "    </tr>\n",
       "    <tr>\n",
       "      <th>CodeCast Ep. 3 | Learn all About Competitive Programming | @PriyanshAgarwal  with Mr. Sandeep Jain</th>\n",
       "      <th>5800.0</th>\n",
       "      <th>1916</th>\n",
       "      <td>https://www.youtube.com/watch?v=5uAFQqdS9oA</td>\n",
       "    </tr>\n",
       "    <tr>\n",
       "      <th>Master These Coding Practices For Your Placement Preparation | GeeksforGeeks</th>\n",
       "      <th>5400.0</th>\n",
       "      <th>238</th>\n",
       "      <td>https://www.youtube.com/watch?v=v_mlqwjlv00</td>\n",
       "    </tr>\n",
       "    <tr>\n",
       "      <th>Office Video Leaked 😰🤯</th>\n",
       "      <th>5200.0</th>\n",
       "      <th>95</th>\n",
       "      <td>https://www.youtube.com/watch?v=i_HlQl7Tg9Q</td>\n",
       "    </tr>\n",
       "  </tbody>\n",
       "</table>\n",
       "</div>"
      ],
      "text/plain": [
       "                                                                                                                Link\n",
       "Title                                              Views    Duration(s)                                             \n",
       "GeeksforGeeks Classroom Program | Now in Noida ... 112000.0 38           https://www.youtube.com/watch?v=16D2cuRy5JY\n",
       "Free Summer Offline Classes on Python Programin... 106000.0 37           https://www.youtube.com/watch?v=OOLXHwZzHfM\n",
       "Full Stack Development | LIVE Classes | Geeksfo... 92000.0  35           https://www.youtube.com/watch?v=cBfC9HLR9Qk\n",
       "Job Fair for Students | Till 25th May Only | Ge... 82000.0  39           https://www.youtube.com/watch?v=1GEegOb3fHE\n",
       "Master DSA Today and be the Masters of Tomorrow    74000.0  25           https://www.youtube.com/watch?v=PsOXP5hg52w\n",
       "DSA To Development: A Complete Coding Guide | C... 50000.0  43           https://www.youtube.com/watch?v=phr8lXH2Ee0\n",
       "Create Your Own Apps Today | GeeksforGeeks         34000.0  38           https://www.youtube.com/watch?v=LycNCWC3g18\n",
       "Gate 2024: Prepare for Success! | GATE CSE 2024... 28000.0  52           https://www.youtube.com/watch?v=G-3vZKPEtKw\n",
       "Rule the Coding World with Geek Summer Carnival... 25000.0  42           https://www.youtube.com/watch?v=zLj3Qb9T2Q4\n",
       "GeeksforGeeks Job Fair 2023                        25000.0  31           https://www.youtube.com/watch?v=xIC1IFPod9Y\n",
       "Hire Best Talent with GeeksforGeeks                14000.0  54           https://www.youtube.com/watch?v=xifGlf39ahQ\n",
       "Age is Just a Number: The Story of a 14-Year-Ol... 14000.0  1005         https://www.youtube.com/watch?v=TASew4CmC9w\n",
       "Kickstart your DevOps Career | GeeksforGeeks       14000.0  30           https://www.youtube.com/watch?v=8gwwlpBwr_s\n",
       "GeeksforGeeks Offline Classroom Program | Now O... 9000.0   28           https://www.youtube.com/watch?v=2bPiFkt3Nmg\n",
       "Master System Design | GeeksforGeeks               7200.0   46           https://www.youtube.com/watch?v=vjWLZYeqiN8\n",
       "Optimal Way to Get Started with DSA | GeeksforG... 7100.0   161          https://www.youtube.com/watch?v=-WLD1oY2dB4\n",
       "The Art of Becoming a Successful Coder | Geeksf... 6700.0   906          https://www.youtube.com/watch?v=jO2SyGwS4bA\n",
       "CodeCast Ep. 3 | Learn all About Competitive Pr... 5800.0   1916         https://www.youtube.com/watch?v=5uAFQqdS9oA\n",
       "Master These Coding Practices For Your Placemen... 5400.0   238          https://www.youtube.com/watch?v=v_mlqwjlv00\n",
       "Office Video Leaked 😰🤯                             5200.0   95           https://www.youtube.com/watch?v=i_HlQl7Tg9Q"
      ]
     },
     "execution_count": 653,
     "metadata": {},
     "output_type": "execute_result"
    }
   ],
   "source": [
    "group3.sum().sort_values(by='Views',ascending = False)[:20]"
   ]
  },
  {
   "cell_type": "code",
   "execution_count": null,
   "id": "ad5dc7d9-96ec-4dd6-8955-61c1eb339a7d",
   "metadata": {},
   "outputs": [],
   "source": []
  },
  {
   "cell_type": "code",
   "execution_count": 660,
   "id": "8e8bd124-2644-4fa6-b8f1-8c4e54707bf0",
   "metadata": {},
   "outputs": [
    {
     "data": {
      "text/plain": [
       "(71, 1)"
      ]
     },
     "execution_count": 660,
     "metadata": {},
     "output_type": "execute_result"
    }
   ],
   "source": [
    "insight_df = group3.sum().sort_values(by='Views',ascending = False)\n",
    "insight_df.shape"
   ]
  },
  {
   "cell_type": "code",
   "execution_count": 672,
   "id": "8133e36d-3ea6-4487-8952-72d47e186aa9",
   "metadata": {},
   "outputs": [
    {
     "data": {
      "text/plain": [
       "pandas.core.frame.DataFrame"
      ]
     },
     "execution_count": 672,
     "metadata": {},
     "output_type": "execute_result"
    }
   ],
   "source": [
    "type(insight_df)"
   ]
  },
  {
   "cell_type": "code",
   "execution_count": null,
   "id": "489965a7-9a8e-4f2b-997d-9b2f94849214",
   "metadata": {},
   "outputs": [],
   "source": []
  },
  {
   "cell_type": "code",
   "execution_count": 659,
   "id": "38d7c81b-0c9d-43a7-9774-dd0bf9494070",
   "metadata": {},
   "outputs": [],
   "source": [
    "# Save the DataFrame to a CSV file\n",
    "csv_filename = 'geeksforgeeksinsight.csv'\n",
    "insight_df.to_csv(csv_filename, index=False)"
   ]
  },
  {
   "cell_type": "code",
   "execution_count": null,
   "id": "179433f5-1b9e-4c89-ac36-09cc6794c010",
   "metadata": {},
   "outputs": [],
   "source": []
  },
  {
   "cell_type": "code",
   "execution_count": 670,
   "id": "55386beb-2a2b-4d47-b5c7-2c7c313173d6",
   "metadata": {},
   "outputs": [],
   "source": [
    "driver.close()  # Close the current browser window\n",
    "driver.quit()   # Close the browser window and terminate the WebDriver session\n"
   ]
  },
  {
   "cell_type": "code",
   "execution_count": null,
   "id": "86e5421e-e09a-4af7-ad85-99f4d71b449c",
   "metadata": {},
   "outputs": [],
   "source": []
  }
 ],
 "metadata": {
  "kernelspec": {
   "display_name": "Python 3 (ipykernel)",
   "language": "python",
   "name": "python3"
  },
  "language_info": {
   "codemirror_mode": {
    "name": "ipython",
    "version": 3
   },
   "file_extension": ".py",
   "mimetype": "text/x-python",
   "name": "python",
   "nbconvert_exporter": "python",
   "pygments_lexer": "ipython3",
   "version": "3.10.0"
  }
 },
 "nbformat": 4,
 "nbformat_minor": 5
}
